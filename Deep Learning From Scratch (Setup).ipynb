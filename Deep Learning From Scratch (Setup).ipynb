{
 "cells": [
  {
   "cell_type": "code",
   "execution_count": 1,
   "id": "270388c4",
   "metadata": {},
   "outputs": [
    {
     "data": {
      "text/html": [
       "\r\n",
       "<div>\r\n",
       "    <div id='dotnet-interactive-this-cell-64.Microsoft.DotNet.Interactive.Http.HttpPort' style='display: none'>\r\n",
       "        The below script needs to be able to find the current output cell; this is an easy method to get it.\r\n",
       "    </div>\r\n",
       "    <script type='text/javascript'>\r\n",
       "async function probeAddresses(probingAddresses) {\r\n",
       "    function timeout(ms, promise) {\r\n",
       "        return new Promise(function (resolve, reject) {\r\n",
       "            setTimeout(function () {\r\n",
       "                reject(new Error('timeout'))\r\n",
       "            }, ms)\r\n",
       "            promise.then(resolve, reject)\r\n",
       "        })\r\n",
       "    }\r\n",
       "\r\n",
       "    if (Array.isArray(probingAddresses)) {\r\n",
       "        for (let i = 0; i < probingAddresses.length; i++) {\r\n",
       "\r\n",
       "            let rootUrl = probingAddresses[i];\r\n",
       "\r\n",
       "            if (!rootUrl.endsWith('/')) {\r\n",
       "                rootUrl = `${rootUrl}/`;\r\n",
       "            }\r\n",
       "\r\n",
       "            try {\r\n",
       "                let response = await timeout(1000, fetch(`${rootUrl}discovery`, {\r\n",
       "                    method: 'POST',\r\n",
       "                    cache: 'no-cache',\r\n",
       "                    mode: 'cors',\r\n",
       "                    timeout: 1000,\r\n",
       "                    headers: {\r\n",
       "                        'Content-Type': 'text/plain'\r\n",
       "                    },\r\n",
       "                    body: probingAddresses[i]\r\n",
       "                }));\r\n",
       "\r\n",
       "                if (response.status == 200) {\r\n",
       "                    return rootUrl;\r\n",
       "                }\r\n",
       "            }\r\n",
       "            catch (e) { }\r\n",
       "        }\r\n",
       "    }\r\n",
       "}\r\n",
       "\r\n",
       "function loadDotnetInteractiveApi() {\r\n",
       "    probeAddresses([\"http://172.17.0.2:1000/\", \"http://127.0.0.1:1000/\"])\r\n",
       "        .then((root) => {\r\n",
       "        // use probing to find host url and api resources\r\n",
       "        // load interactive helpers and language services\r\n",
       "        let dotnetInteractiveRequire = require.config({\r\n",
       "        context: '64.Microsoft.DotNet.Interactive.Http.HttpPort',\r\n",
       "                paths:\r\n",
       "            {\r\n",
       "                'dotnet-interactive': `${root}resources`\r\n",
       "                }\r\n",
       "        }) || require;\r\n",
       "\r\n",
       "            window.dotnetInteractiveRequire = dotnetInteractiveRequire;\r\n",
       "\r\n",
       "            window.configureRequireFromExtension = function(extensionName, extensionCacheBuster) {\r\n",
       "                let paths = {};\r\n",
       "                paths[extensionName] = `${root}extensions/${extensionName}/resources/`;\r\n",
       "                \r\n",
       "                let internalRequire = require.config({\r\n",
       "                    context: extensionCacheBuster,\r\n",
       "                    paths: paths,\r\n",
       "                    urlArgs: `cacheBuster=${extensionCacheBuster}`\r\n",
       "                    }) || require;\r\n",
       "\r\n",
       "                return internalRequire\r\n",
       "            };\r\n",
       "        \r\n",
       "            dotnetInteractiveRequire([\r\n",
       "                    'dotnet-interactive/dotnet-interactive'\r\n",
       "                ],\r\n",
       "                function (dotnet) {\r\n",
       "                    dotnet.init(window);\r\n",
       "                },\r\n",
       "                function (error) {\r\n",
       "                    console.log(error);\r\n",
       "                }\r\n",
       "            );\r\n",
       "        })\r\n",
       "        .catch(error => {console.log(error);});\r\n",
       "    }\r\n",
       "\r\n",
       "// ensure `require` is available globally\r\n",
       "if ((typeof(require) !==  typeof(Function)) || (typeof(require.config) !== typeof(Function))) {\r\n",
       "    let require_script = document.createElement('script');\r\n",
       "    require_script.setAttribute('src', 'https://cdnjs.cloudflare.com/ajax/libs/require.js/2.3.6/require.min.js');\r\n",
       "    require_script.setAttribute('type', 'text/javascript');\r\n",
       "    \r\n",
       "    \r\n",
       "    require_script.onload = function() {\r\n",
       "        loadDotnetInteractiveApi();\r\n",
       "    };\r\n",
       "\r\n",
       "    document.getElementsByTagName('head')[0].appendChild(require_script);\r\n",
       "}\r\n",
       "else {\r\n",
       "    loadDotnetInteractiveApi();\r\n",
       "}\r\n",
       "\r\n",
       "    </script>\r\n",
       "</div>"
      ]
     },
     "metadata": {},
     "output_type": "display_data"
    },
    {
     "name": "stdout",
     "output_type": "stream",
     "text": [
      "Hello, world\n"
     ]
    }
   ],
   "source": [
    "printfn \"Hello, world\""
   ]
  },
  {
   "cell_type": "code",
   "execution_count": 4,
   "id": "63668b36",
   "metadata": {},
   "outputs": [],
   "source": [
    "// #r \"nuget: Tensor\"\n",
    "// #r \"nuget: Tensor.Algorithm\""
   ]
  },
  {
   "cell_type": "code",
   "execution_count": 9,
   "id": "ac466ec8",
   "metadata": {},
   "outputs": [
    {
     "name": "stdout",
     "output_type": "stream",
     "text": [
      "[   0    1    2    3    4    5]\n"
     ]
    }
   ],
   "source": [
    "open Tensor\n",
    "\n",
    "let x = HostTensor.counting 6L\n",
    "printfn \"%A\" x"
   ]
  },
  {
   "cell_type": "code",
   "execution_count": 52,
   "id": "626d951c",
   "metadata": {},
   "outputs": [],
   "source": [
    "#nowarn \"25\" // allows the use of the array in the function parameter to HostTensor.init\n",
    "\n",
    "open System\n",
    "open Tensor\n",
    "\n",
    "// let rng = new Random()\n",
    "let f (x : Tensor<float>) = x * 2.0\n",
    "let r = HostTensor.init [100L; 100L] (fun [|_; _|] -> rng.NextDouble() )\n",
    "let delta = 0.001\n",
    "let rminus = r - delta\n",
    "let rplus = r + delta\n",
    "let dr = ((f rplus) - (f rminus)) / (2.0 * delta)"
   ]
  },
  {
   "cell_type": "code",
   "execution_count": 53,
   "id": "58fb94dd",
   "metadata": {},
   "outputs": [
    {
     "name": "stdout",
     "output_type": "stream",
     "text": [
      "[[   0.2492    0.2293    0.0121    0.1685    0.2227       ...    0.0774    0.3593    0.4901    0.5615]\n",
      " [   0.6011    0.9406    0.1466    0.2967    0.5908       ...    0.3404    0.2238    0.6773    0.2162]\n",
      " [   0.7096    0.0148    0.1314    0.0442    0.0198       ...    0.2067    0.2513    0.0856    0.9785]\n",
      " [   0.3154    0.0016    0.9439    0.3759    0.9915       ...    0.7063    0.0077    0.8370    0.0222]\n",
      " [   0.3603    0.4096    0.3897    0.7751    0.1918       ...    0.9838    0.8310    0.9133    0.9577]\n",
      "       ...\n",
      " [   0.0624    0.0998    0.7494    0.9494    0.1874       ...    0.1119    0.6032    0.5224    0.7524]\n",
      " [   0.5644    0.6484    0.6650    0.6719    0.7786       ...    0.3291    0.8255    0.1337    0.9168]\n",
      " [   0.7157    0.7645    0.8945    0.1042    0.2720       ...    0.8460    0.8100    0.1280    0.5835]\n",
      " [   0.3697    0.9409    0.4590    0.1463    0.6350       ...    0.7493    0.8893    0.1461    0.8609]], [[   0.2472    0.2273    0.0101    0.1665    0.2207       ...    0.0754    0.3573    0.4881    0.5595]\n",
      " [   0.5991    0.9386    0.1446    0.2947    0.5888       ...    0.3384    0.2218    0.6753    0.2142]\n",
      " [   0.7076    0.0128    0.1294    0.0422    0.0178       ...    0.2047    0.2493    0.0836    0.9765]\n",
      " [   0.3134    -0.000    0.9419    0.3739    0.9895       ...    0.7043    0.0057    0.8350    0.0202]\n",
      " [   0.3583    0.4076    0.3877    0.7731    0.1898       ...    0.9818    0.8290    0.9113    0.9557]\n",
      "       ...\n",
      " [   0.0604    0.0978    0.7474    0.9474    0.1854       ...    0.1099    0.6012    0.5204    0.7504]\n",
      " [   0.5624    0.6464    0.6630    0.6699    0.7766       ...    0.3271    0.8235    0.1317    0.9148]\n",
      " [   0.7137    0.7625    0.8925    0.1022    0.2700       ...    0.8440    0.8080    0.1260    0.5815]\n",
      " [   0.3677    0.9389    0.4570    0.1443    0.6330       ...    0.7473    0.8873    0.1441    0.8589]], [[   2.0000    2.0000    2.0000    2.0000    2.0000       ...    2.0000    2.0000    2.0000    2.0000]\n",
      " [   2.0000    2.0000    2.0000    2.0000    2.0000       ...    2.0000    2.0000    2.0000    2.0000]\n",
      " [   2.0000    2.0000    2.0000    2.0000    2.0000       ...    2.0000    2.0000    2.0000    2.0000]\n",
      " [   2.0000    2.0000    2.0000    2.0000    2.0000       ...    2.0000    2.0000    2.0000    2.0000]\n",
      " [   2.0000    2.0000    2.0000    2.0000    2.0000       ...    2.0000    2.0000    2.0000    2.0000]\n",
      "       ...\n",
      " [   2.0000    2.0000    2.0000    2.0000    2.0000       ...    2.0000    2.0000    2.0000    2.0000]\n",
      " [   2.0000    2.0000    2.0000    2.0000    2.0000       ...    2.0000    2.0000    2.0000    2.0000]\n",
      " [   2.0000    2.0000    2.0000    2.0000    2.0000       ...    2.0000    2.0000    2.0000    2.0000]\n",
      " [   2.0000    2.0000    2.0000    2.0000    2.0000       ...    2.0000    2.0000    2.0000    2.0000]]\n"
     ]
    }
   ],
   "source": [
    "printfn \"%A, %A, %A\" rplus rminus dr"
   ]
  },
  {
   "cell_type": "code",
   "execution_count": null,
   "id": "b1af9a91",
   "metadata": {},
   "outputs": [],
   "source": []
  }
 ],
 "metadata": {
  "kernelspec": {
   "display_name": ".NET (F#)",
   "language": "F#",
   "name": ".net-fsharp"
  },
  "language_info": {
   "file_extension": ".fs",
   "mimetype": "text/x-fsharp",
   "name": "F#",
   "pygments_lexer": "fsharp",
   "version": "5.0"
  }
 },
 "nbformat": 4,
 "nbformat_minor": 5
}
