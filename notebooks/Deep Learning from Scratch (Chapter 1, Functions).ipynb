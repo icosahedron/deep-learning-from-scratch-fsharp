{
 "cells": [
  {
   "cell_type": "markdown",
   "id": "a39de6dc",
   "metadata": {},
   "source": [
    "# Chapter 1, Function Composition\n",
    "\n",
    "Functions are useful, but really functions composed together are what make them interesting.  \n",
    "\n",
    "There isn't much difference in function composition when calculating values, but when taking their derivatives, you have to use the *Chain Rule*."
   ]
  },
  {
   "cell_type": "markdown",
   "id": "15793a7d",
   "metadata": {},
   "source": [
    "## The Chain Rule\n",
    "\n",
    "The book explains the chain rule pretty well, but for summary, the rule is as follows.  When two functions are composed, the "
   ]
  }
 ],
 "metadata": {
  "kernelspec": {
   "display_name": ".NET (F#)",
   "language": "F#",
   "name": ".net-fsharp"
  },
  "language_info": {
   "file_extension": ".fs",
   "mimetype": "text/x-fsharp",
   "name": "F#",
   "pygments_lexer": "fsharp",
   "version": "5.0"
  }
 },
 "nbformat": 4,
 "nbformat_minor": 5
}
