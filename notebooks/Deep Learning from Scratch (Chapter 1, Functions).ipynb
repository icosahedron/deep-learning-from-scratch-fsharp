{
 "cells": [
  {
   "cell_type": "markdown",
   "id": "a39de6dc",
   "metadata": {},
   "source": [
    "# Chapter 1, Function Composition\n",
    "\n",
    "Functions are useful, but really functions composed together are what make them interesting.  \n",
    "\n",
    "There isn't much difference in function composition when calculating values, but when taking their derivatives, you have to use the *Chain Rule*."
   ]
  },
  {
   "cell_type": "markdown",
   "id": "d4473b2d",
   "metadata": {},
   "source": [
    "## Function Composition\n",
    "\n",
    "All I'm going to say about function composition is that it maps to calling one function with the result of another function.\n",
    "\n",
    "This is easy to imagine, as it's something we do all the time in programs.\n",
    "\n",
    "```\n",
    "let y = f x\n",
    "let z = g y\n",
    "```\n",
    "\n",
    "or put more succinctly\n",
    "\n",
    "```\n",
    "let z = g (f x)\n",
    "```\n",
    "\n",
    "Considering how important derivatives are for deep learning, and intrinsic nested functions are, then we need to learn to take the derivative of nested functions.  Fortunately, there is a rule we can use to chain derivatives of functions together.  It is aptly named, called ..."
   ]
  },
  {
   "cell_type": "markdown",
   "id": "0b38e9b7",
   "metadata": {},
   "source": [
    "Functions can be composed together and still visualized.  Let's take two functions, the previous $x^2$ we used, \n",
    "and a common function used in neural networks, the sigmoid function $\\sigma$.\n",
    "\n",
    "Sigmoid function is defined as \n",
    "\n"
   ]
  },
  {
   "cell_type": "markdown",
   "id": "15793a7d",
   "metadata": {},
   "source": [
    "## The Chain Rule\n",
    "\n",
    "The book explains the chain rule pretty well, but for summary, the rule is as follows.  When two functions are composed, one is inner function and the other is the outer function.  The derivative is the derivative of the inner function multplied by the derivative of the outer function using the result of the inner function.\n",
    "\n",
    "Sounds confusing, right?  Well, the book uses a diagram of boxes to show the flow, which is really pretty good.\n",
    "\n"
   ]
  }
 ],
 "metadata": {
  "kernelspec": {
   "display_name": ".NET (F#)",
   "language": "F#",
   "name": ".net-fsharp"
  },
  "language_info": {
   "file_extension": ".fs",
   "mimetype": "text/x-fsharp",
   "name": "F#",
   "pygments_lexer": "fsharp",
   "version": "5.0"
  }
 },
 "nbformat": 4,
 "nbformat_minor": 5
}
