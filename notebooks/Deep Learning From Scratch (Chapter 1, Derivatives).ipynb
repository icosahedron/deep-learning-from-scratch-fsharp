{
 "cells": [
  {
   "cell_type": "markdown",
   "id": "d7ada1ea",
   "metadata": {},
   "source": [
    "# Chapter 1, Derivatives"
   ]
  },
  {
   "cell_type": "markdown",
   "id": "4483d732",
   "metadata": {},
   "source": [
    "The book **Deep Learning from Scratch** is a great introduction to Deep Learning.  It uses Python to build a deep learning toolkit from scratch (as the name implies).\n",
    "\n",
    "To better learn the material though, I'm translating it to F#.  This will force me to learn the material \"from scratch\", so I can't cheat and just run the Python notebooks.  Though I might do that to compare outputs."
   ]
  },
  {
   "cell_type": "markdown",
   "id": "d19aa90e",
   "metadata": {},
   "source": [
    "First, we need to load our libraries.  \n",
    "\n",
    "For the `pandas` substitute, I'm using `Deedle`.  For `matplotlib`, I'm using `XPlot.Plotly` (and `XPlot.Plotly.Interactive` for notebook integration).  "
   ]
  },
  {
   "cell_type": "code",
   "execution_count": 1,
   "id": "f1c7d5cc",
   "metadata": {},
   "outputs": [
    {
     "data": {
      "text/html": [
       "\r\n",
       "<div>\r\n",
       "    <div id='dotnet-interactive-this-cell-22.Microsoft.DotNet.Interactive.Http.HttpPort' style='display: none'>\r\n",
       "        The below script needs to be able to find the current output cell; this is an easy method to get it.\r\n",
       "    </div>\r\n",
       "    <script type='text/javascript'>\r\n",
       "async function probeAddresses(probingAddresses) {\r\n",
       "    function timeout(ms, promise) {\r\n",
       "        return new Promise(function (resolve, reject) {\r\n",
       "            setTimeout(function () {\r\n",
       "                reject(new Error('timeout'))\r\n",
       "            }, ms)\r\n",
       "            promise.then(resolve, reject)\r\n",
       "        })\r\n",
       "    }\r\n",
       "\r\n",
       "    if (Array.isArray(probingAddresses)) {\r\n",
       "        for (let i = 0; i < probingAddresses.length; i++) {\r\n",
       "\r\n",
       "            let rootUrl = probingAddresses[i];\r\n",
       "\r\n",
       "            if (!rootUrl.endsWith('/')) {\r\n",
       "                rootUrl = `${rootUrl}/`;\r\n",
       "            }\r\n",
       "\r\n",
       "            try {\r\n",
       "                let response = await timeout(1000, fetch(`${rootUrl}discovery`, {\r\n",
       "                    method: 'POST',\r\n",
       "                    cache: 'no-cache',\r\n",
       "                    mode: 'cors',\r\n",
       "                    timeout: 1000,\r\n",
       "                    headers: {\r\n",
       "                        'Content-Type': 'text/plain'\r\n",
       "                    },\r\n",
       "                    body: probingAddresses[i]\r\n",
       "                }));\r\n",
       "\r\n",
       "                if (response.status == 200) {\r\n",
       "                    return rootUrl;\r\n",
       "                }\r\n",
       "            }\r\n",
       "            catch (e) { }\r\n",
       "        }\r\n",
       "    }\r\n",
       "}\r\n",
       "\r\n",
       "function loadDotnetInteractiveApi() {\r\n",
       "    probeAddresses([\"http://172.17.0.2:1000/\", \"http://127.0.0.1:1000/\"])\r\n",
       "        .then((root) => {\r\n",
       "        // use probing to find host url and api resources\r\n",
       "        // load interactive helpers and language services\r\n",
       "        let dotnetInteractiveRequire = require.config({\r\n",
       "        context: '22.Microsoft.DotNet.Interactive.Http.HttpPort',\r\n",
       "                paths:\r\n",
       "            {\r\n",
       "                'dotnet-interactive': `${root}resources`\r\n",
       "                }\r\n",
       "        }) || require;\r\n",
       "\r\n",
       "            window.dotnetInteractiveRequire = dotnetInteractiveRequire;\r\n",
       "\r\n",
       "            window.configureRequireFromExtension = function(extensionName, extensionCacheBuster) {\r\n",
       "                let paths = {};\r\n",
       "                paths[extensionName] = `${root}extensions/${extensionName}/resources/`;\r\n",
       "                \r\n",
       "                let internalRequire = require.config({\r\n",
       "                    context: extensionCacheBuster,\r\n",
       "                    paths: paths,\r\n",
       "                    urlArgs: `cacheBuster=${extensionCacheBuster}`\r\n",
       "                    }) || require;\r\n",
       "\r\n",
       "                return internalRequire\r\n",
       "            };\r\n",
       "        \r\n",
       "            dotnetInteractiveRequire([\r\n",
       "                    'dotnet-interactive/dotnet-interactive'\r\n",
       "                ],\r\n",
       "                function (dotnet) {\r\n",
       "                    dotnet.init(window);\r\n",
       "                },\r\n",
       "                function (error) {\r\n",
       "                    console.log(error);\r\n",
       "                }\r\n",
       "            );\r\n",
       "        })\r\n",
       "        .catch(error => {console.log(error);});\r\n",
       "    }\r\n",
       "\r\n",
       "// ensure `require` is available globally\r\n",
       "if ((typeof(require) !==  typeof(Function)) || (typeof(require.config) !== typeof(Function))) {\r\n",
       "    let require_script = document.createElement('script');\r\n",
       "    require_script.setAttribute('src', 'https://cdnjs.cloudflare.com/ajax/libs/require.js/2.3.6/require.min.js');\r\n",
       "    require_script.setAttribute('type', 'text/javascript');\r\n",
       "    \r\n",
       "    \r\n",
       "    require_script.onload = function() {\r\n",
       "        loadDotnetInteractiveApi();\r\n",
       "    };\r\n",
       "\r\n",
       "    document.getElementsByTagName('head')[0].appendChild(require_script);\r\n",
       "}\r\n",
       "else {\r\n",
       "    loadDotnetInteractiveApi();\r\n",
       "}\r\n",
       "\r\n",
       "    </script>\r\n",
       "</div>"
      ]
     },
     "metadata": {},
     "output_type": "display_data"
    },
    {
     "data": {
      "text/html": [
       "<div><div></div><div></div><div><strong>Installed Packages</strong><ul><li><span>Deedle, 2.5.0</span></li><li><span>XPlot.Plotly, 4.0.6</span></li><li><span>XPlot.Plotly.Interactive, 4.0.6</span></li></ul></div></div>"
      ]
     },
     "metadata": {},
     "output_type": "display_data"
    },
    {
     "data": {
      "text/markdown": [
       "Loading extensions from `XPlot.Plotly.Interactive.dll`"
      ]
     },
     "metadata": {},
     "output_type": "display_data"
    },
    {
     "data": {
      "text/markdown": [
       "Configuring PowerShell Kernel for XPlot.Plotly integration."
      ]
     },
     "metadata": {},
     "output_type": "display_data"
    },
    {
     "data": {
      "text/markdown": [
       "Installed support for XPlot.Plotly."
      ]
     },
     "metadata": {},
     "output_type": "display_data"
    }
   ],
   "source": [
    "#r \"nuget: XPlot.Plotly\"\n",
    "#r \"nuget: XPlot.Plotly.Interactive\"\n",
    "#r \"nuget: Deedle\""
   ]
  },
  {
   "cell_type": "markdown",
   "id": "d0c4099d",
   "metadata": {},
   "source": [
    "## Math\n",
    "\n",
    "The book begins with, and we will too, math.\n",
    "\n",
    "Calculus and linear algebra are at the heart of Deep Learning.  And calculus starts with derivatives. (So cliché, which is of itself derivative. ☺)\n",
    "\n",
    "The first chapter of the book covers calculus: single parameter function derivatives through vector calculus.  But the introduction is gentle and done with code along side math notation and some interesting box diagrams.\n",
    "\n",
    "We're going to stick with code.\n",
    "\n",
    "### Derivatives\n",
    "\n",
    "Up first in any calculus discussion are derivatives.  In short, they are the slope of the line tangent to point $x$ for $f$.  There are much better explanations. One of my favorites is [Calculus Made Easy](https://www.calculusmadeeasy.org/) by Silvanus P. Thompson.\n",
    "\n",
    "If we make the $\\delta$ (delta) very small, we can get a line segment for the points around $x$ and take its slope, approximating to an arbitrarily accurate degree the derivative of $f(x)$."
   ]
  },
  {
   "cell_type": "code",
   "execution_count": 2,
   "id": "0f66d2fa",
   "metadata": {},
   "outputs": [],
   "source": [
    "open Deedle\n",
    "open System.Linq"
   ]
  },
  {
   "cell_type": "code",
   "execution_count": 3,
   "id": "65a5d486",
   "metadata": {},
   "outputs": [],
   "source": [
    "let deriv delta f x = \n",
    "    ((f (x + delta)) - (f (x - delta))) / (2.0 * delta)\n",
    "\n",
    "// partial application for a default delta\n",
    "let dydx = deriv 0.001\n"
   ]
  },
  {
   "cell_type": "markdown",
   "id": "f12b544f",
   "metadata": {},
   "source": [
    "Our `deriv` function simply takes a the slope of a line segment of $f$ at the $x$.  The `dydx` function is simply a partial application with the delta of 0.001.  Which is why I put the `delta` parameter first.\n",
    "\n",
    "Let's try out some simple charts to make sure we get what we think we should for derivatives.  Let's plot the functions $x^2$ and $x^3$ and their derivatives."
   ]
  },
  {
   "cell_type": "code",
   "execution_count": 4,
   "id": "87378fc8",
   "metadata": {},
   "outputs": [],
   "source": [
    "open XPlot.Plotly\n",
    "open XPlot.Plotly.Interactive\n",
    "\n",
    "let x = seq { for n in -3.0 .. 0.1 .. 3.0 do n }\n",
    "let x2 = seq { for n in -3.0 .. 0.1 .. 3.0 do n ** 2.0 }\n",
    "let x3 = seq { for n in -3.0 .. 0.1 .. 3.0 do n ** 3.0 }\n",
    "let dx2 = seq { for n in -3.0 .. 0.1 .. 3.0 do dydx (fun x -> (x ** 2.0)) n }\n",
    "let dx3 = seq { for n in -3.0 .. 0.1 .. 3.0 do dydx (fun x -> (x ** 3.0)) n }"
   ]
  },
  {
   "cell_type": "code",
   "execution_count": 5,
   "id": "7e950316",
   "metadata": {},
   "outputs": [
    {
     "data": {
      "text/html": [
       "<!DOCTYPE html>\n",
       "<div style=\"width: 750px; height: 500px;\" id=\"a29a34cb-f540-4180-97fe-5256e12c2a63\"></div><script type=\"text/javascript\">\n",
       "\n",
       "var renderPlotly = function() {\n",
       "    var xplotRequire = require.config({context:'xplot-3.0.1',paths:{plotly:'https://cdn.plot.ly/plotly-1.49.2.min'}}) || require;\n",
       "    xplotRequire(['plotly'], function(Plotly) { \n",
       "\n",
       "            var data = [{\"type\":\"scatter\",\"x\":[-3.0,-2.9,-2.8,-2.7,-2.6,-2.5,-2.4,-2.3,-2.2,-2.1,-2.0,-1.9,-1.7999999999999998,-1.7,-1.5999999999999999,-1.5,-1.4,-1.2999999999999998,-1.2,-1.0999999999999999,-1.0,-0.8999999999999999,-0.7999999999999998,-0.6999999999999997,-0.5999999999999996,-0.5,-0.3999999999999999,-0.2999999999999998,-0.19999999999999973,-0.09999999999999964,0.0,0.10000000000000009,0.20000000000000018,0.30000000000000027,0.40000000000000036,0.5,0.6000000000000001,0.7000000000000002,0.8000000000000003,0.9000000000000004,1.0,1.1000000000000005,1.2000000000000002,1.2999999999999998,1.4000000000000004,1.5,1.6000000000000005,1.7000000000000002,1.8000000000000007,1.9000000000000004,2.0,2.1000000000000005,2.2,2.3000000000000007,2.4000000000000004,2.5,2.6000000000000005,2.7,2.8000000000000007,2.9000000000000004,3.0],\"y\":[9.0,8.41,7.839999999999999,7.290000000000001,6.760000000000001,6.25,5.76,5.289999999999999,4.840000000000001,4.41,4.0,3.61,3.2399999999999993,2.8899999999999997,2.5599999999999996,2.25,1.9599999999999997,1.6899999999999995,1.44,1.2099999999999997,1.0,0.8099999999999998,0.6399999999999997,0.4899999999999996,0.3599999999999996,0.25,0.15999999999999992,0.0899999999999999,0.0399999999999999,0.009999999999999929,0.0,0.010000000000000018,0.04000000000000007,0.09000000000000016,0.16000000000000028,0.25,0.3600000000000001,0.49000000000000027,0.6400000000000005,0.8100000000000006,1.0,1.210000000000001,1.4400000000000004,1.6899999999999995,1.960000000000001,2.25,2.560000000000002,2.8900000000000006,3.2400000000000024,3.610000000000001,4.0,4.410000000000002,4.840000000000001,5.290000000000004,5.760000000000002,6.25,6.7600000000000025,7.290000000000001,7.840000000000004,8.410000000000002,9.0],\"mode\":\"lines\",\"name\":\"x^2\"},{\"type\":\"scatter\",\"x\":[-3.0,-2.9,-2.8,-2.7,-2.6,-2.5,-2.4,-2.3,-2.2,-2.1,-2.0,-1.9,-1.7999999999999998,-1.7,-1.5999999999999999,-1.5,-1.4,-1.2999999999999998,-1.2,-1.0999999999999999,-1.0,-0.8999999999999999,-0.7999999999999998,-0.6999999999999997,-0.5999999999999996,-0.5,-0.3999999999999999,-0.2999999999999998,-0.19999999999999973,-0.09999999999999964,0.0,0.10000000000000009,0.20000000000000018,0.30000000000000027,0.40000000000000036,0.5,0.6000000000000001,0.7000000000000002,0.8000000000000003,0.9000000000000004,1.0,1.1000000000000005,1.2000000000000002,1.2999999999999998,1.4000000000000004,1.5,1.6000000000000005,1.7000000000000002,1.8000000000000007,1.9000000000000004,2.0,2.1000000000000005,2.2,2.3000000000000007,2.4000000000000004,2.5,2.6000000000000005,2.7,2.8000000000000007,2.9000000000000004,3.0],\"y\":[-5.999999999999339,-5.799999999998917,-5.599999999999383,-5.399999999999405,-5.199999999999427,-4.999999999999449,-4.799999999999471,-4.599999999999493,-4.399999999999515,-4.199999999999537,-3.9999999999995595,-3.7999999999995815,-3.5999999999996035,-3.3999999999996255,-3.1999999999996476,-2.9999999999996696,-2.7999999999996916,-2.5999999999997137,-2.3999999999997357,-2.1999999999997577,-1.9999999999998352,-1.8000000000000238,-1.6000000000000458,-1.4000000000000123,-1.1999999999999789,-0.999999999999987,-0.7999999999999952,-0.5999999999999963,-0.400000000000001,-0.19999999999999965,0.0,0.19999999999999965,0.3999999999999976,0.6000000000000033,0.7999999999999952,0.999999999999987,1.2000000000000066,1.4000000000000123,1.5999999999999903,1.8000000000000238,1.9999999999998352,2.1999999999997577,2.3999999999997357,2.5999999999997137,2.7999999999996916,2.9999999999996696,3.1999999999996476,3.3999999999996255,3.5999999999996035,3.7999999999995815,3.9999999999995595,4.199999999999537,4.399999999999515,4.599999999999493,4.799999999999471,4.999999999999449,5.199999999999427,5.399999999999405,5.599999999999383,5.799999999999805,5.999999999999339],\"mode\":\"lines\",\"name\":\"dy/dx x^2\"}];\n",
       "           var layout = {\"title\":\"Derivative of x**2 Test Chart\"};\n",
       "           Plotly.newPlot('a29a34cb-f540-4180-97fe-5256e12c2a63', data, layout);\n",
       "        \n",
       "});\n",
       "};\n",
       "// ensure `require` is available globally\r\n",
       "if ((typeof(require) !==  typeof(Function)) || (typeof(require.config) !== typeof(Function))) {\r\n",
       "    let require_script = document.createElement('script');\r\n",
       "    require_script.setAttribute('src', 'https://cdnjs.cloudflare.com/ajax/libs/require.js/2.3.6/require.min.js');\r\n",
       "    require_script.setAttribute('type', 'text/javascript');\r\n",
       "    \r\n",
       "    \r\n",
       "    require_script.onload = function() {\r\n",
       "        renderPlotly();\r\n",
       "    };\r\n",
       "\r\n",
       "    document.getElementsByTagName('head')[0].appendChild(require_script);\r\n",
       "}\r\n",
       "else {\r\n",
       "    renderPlotly();\r\n",
       "}\r\n",
       "\n",
       "</script>\n"
      ]
     },
     "execution_count": 5,
     "metadata": {},
     "output_type": "execute_result"
    }
   ],
   "source": [
    "let line1 = Scatter(\n",
    "        x = x, \n",
    "        y = x2,\n",
    "        mode = \"lines\",\n",
    "        name = \"x^2\"\n",
    "    )\n",
    "\n",
    "let dline1 = Scatter(\n",
    "        x = x, \n",
    "        y = dx2,\n",
    "        mode = \"lines\",\n",
    "        name = \"dy/dx x^2\"\n",
    "    )\n",
    "\n",
    "let lineLayout = Layout(title = \"Derivative of x**2 Test Chart\")\n",
    "\n",
    "let chart = \n",
    "    [line1; dline1]\n",
    "    |> Chart.Plot\n",
    "    |> Chart.WithLayout lineLayout\n",
    "    |> Chart.WithWidth 750\n",
    "\n",
    "chart"
   ]
  },
  {
   "cell_type": "code",
   "execution_count": 9,
   "id": "09934b1f",
   "metadata": {},
   "outputs": [
    {
     "data": {
      "text/html": [
       "<!DOCTYPE html>\n",
       "<div style=\"width: 750px; height: 500px;\" id=\"35c1a073-a793-4f6e-8d6c-168f71f9478e\"></div><script type=\"text/javascript\">\n",
       "\n",
       "var renderPlotly = function() {\n",
       "    var xplotRequire = require.config({context:'xplot-3.0.1',paths:{plotly:'https://cdn.plot.ly/plotly-1.49.2.min'}}) || require;\n",
       "    xplotRequire(['plotly'], function(Plotly) { \n",
       "\n",
       "            var data = [{\"type\":\"scatter\",\"x\":[-3.0,-2.9,-2.8,-2.7,-2.6,-2.5,-2.4,-2.3,-2.2,-2.1,-2.0,-1.9,-1.7999999999999998,-1.7,-1.5999999999999999,-1.5,-1.4,-1.2999999999999998,-1.2,-1.0999999999999999,-1.0,-0.8999999999999999,-0.7999999999999998,-0.6999999999999997,-0.5999999999999996,-0.5,-0.3999999999999999,-0.2999999999999998,-0.19999999999999973,-0.09999999999999964,0.0,0.10000000000000009,0.20000000000000018,0.30000000000000027,0.40000000000000036,0.5,0.6000000000000001,0.7000000000000002,0.8000000000000003,0.9000000000000004,1.0,1.1000000000000005,1.2000000000000002,1.2999999999999998,1.4000000000000004,1.5,1.6000000000000005,1.7000000000000002,1.8000000000000007,1.9000000000000004,2.0,2.1000000000000005,2.2,2.3000000000000007,2.4000000000000004,2.5,2.6000000000000005,2.7,2.8000000000000007,2.9000000000000004,3.0],\"y\":[-27.0,-24.389,-21.951999999999995,-19.683000000000003,-17.576,-15.625,-13.823999999999998,-12.166999999999998,-10.648000000000003,-9.261000000000001,-8.0,-6.858999999999999,-5.831999999999998,-4.912999999999999,-4.095999999999999,-3.375,-2.7439999999999993,-2.196999999999999,-1.7279999999999998,-1.3309999999999995,-1.0,-0.7289999999999998,-0.5119999999999997,-0.3429999999999996,-0.2159999999999996,-0.125,-0.06399999999999996,-0.02699999999999995,-0.007999999999999967,-0.0009999999999999894,0.0,0.0010000000000000026,0.008000000000000021,0.027000000000000073,0.06400000000000017,0.125,0.2160000000000001,0.34300000000000025,0.5120000000000006,0.7290000000000009,1.0,1.331000000000002,1.7280000000000009,2.196999999999999,2.744000000000002,3.375,4.0960000000000045,4.913000000000001,5.832000000000007,6.8590000000000035,8.0,9.261000000000006,10.648000000000003,12.16700000000001,13.824000000000007,15.625,17.57600000000001,19.683000000000003,21.952000000000016,24.38900000000001,27.0],\"mode\":\"lines\",\"name\":\"x^3\"},{\"type\":\"scatter\",\"x\":[-3.0,-2.9,-2.8,-2.7,-2.6,-2.5,-2.4,-2.3,-2.2,-2.1,-2.0,-1.9,-1.7999999999999998,-1.7,-1.5999999999999999,-1.5,-1.4,-1.2999999999999998,-1.2,-1.0999999999999999,-1.0,-0.8999999999999999,-0.7999999999999998,-0.6999999999999997,-0.5999999999999996,-0.5,-0.3999999999999999,-0.2999999999999998,-0.19999999999999973,-0.09999999999999964,0.0,0.10000000000000009,0.20000000000000018,0.30000000000000027,0.40000000000000036,0.5,0.6000000000000001,0.7000000000000002,0.8000000000000003,0.9000000000000004,1.0,1.1000000000000005,1.2000000000000002,1.2999999999999998,1.4000000000000004,1.5,1.6000000000000005,1.7000000000000002,1.8000000000000007,1.9000000000000004,2.0,2.1000000000000005,2.2,2.3000000000000007,2.4000000000000004,2.5,2.6000000000000005,2.7,2.8000000000000007,2.9000000000000004,3.0],\"y\":[27.000000999995777,25.23000099999706,23.520000999997848,21.87000099999814,20.280000999997938,18.75000099999813,17.280000999997824,15.870000999997913,14.520000999998395,13.230000999998381,12.000000999998317,10.830000999998646,9.720000999998923,8.67000099999915,7.680000999999326,6.750000999999228,5.880000999999302,5.070000999999547,4.320000999999518,3.6300009999995497,3.0000009999998634,2.430001000000015,1.9200010000000045,1.4700009999999986,1.080000999999997,0.7500009999999931,0.48000100000000073,0.2700009999999989,0.12000099999999979,0.030000999999999767,1E-06,0.030001000000000094,0.12000100000000065,0.2700010000000006,0.48000100000000073,0.7500009999999931,1.080000999999997,1.4700009999999986,1.9200010000000045,2.430001000000015,3.0000009999998634,3.6300009999996607,4.320000999999518,5.070000999999547,5.880000999999302,6.750000999999228,7.680000999999326,8.67000099999915,9.720000999998923,10.83000099999909,12.000000999998317,13.230000999998381,14.520000999998395,15.870000999997913,17.280000999997824,18.75000099999813,20.280000999997938,21.87000099999814,23.52000099999607,25.23000099999706,27.000000999995777],\"mode\":\"lines\",\"name\":\"dy/dx x^3\"}];\n",
       "           var layout = {\"title\":\"Derivative of x**3 Test Chart\"};\n",
       "           Plotly.newPlot('35c1a073-a793-4f6e-8d6c-168f71f9478e', data, layout);\n",
       "        \n",
       "});\n",
       "};\n",
       "// ensure `require` is available globally\r\n",
       "if ((typeof(require) !==  typeof(Function)) || (typeof(require.config) !== typeof(Function))) {\r\n",
       "    let require_script = document.createElement('script');\r\n",
       "    require_script.setAttribute('src', 'https://cdnjs.cloudflare.com/ajax/libs/require.js/2.3.6/require.min.js');\r\n",
       "    require_script.setAttribute('type', 'text/javascript');\r\n",
       "    \r\n",
       "    \r\n",
       "    require_script.onload = function() {\r\n",
       "        renderPlotly();\r\n",
       "    };\r\n",
       "\r\n",
       "    document.getElementsByTagName('head')[0].appendChild(require_script);\r\n",
       "}\r\n",
       "else {\r\n",
       "    renderPlotly();\r\n",
       "}\r\n",
       "\n",
       "</script>\n"
      ]
     },
     "execution_count": 9,
     "metadata": {},
     "output_type": "execute_result"
    }
   ],
   "source": [
    "let line2 = Scatter(\n",
    "        x = x, \n",
    "        y = x3,\n",
    "        mode = \"lines\",\n",
    "        name = \"x^3\"\n",
    "    )\n",
    "\n",
    "\n",
    "let dline2 = Scatter(\n",
    "        x = x, \n",
    "        y = dx3,\n",
    "        mode = \"lines\",\n",
    "        name = \"dy/dx x^3\"\n",
    "    )\n",
    "\n",
    "let lineLayout = Layout(title = \"Derivative of x**3 Test Chart\")\n",
    "\n",
    "let chart = \n",
    "    [line2; dline2]\n",
    "    |> Chart.Plot\n",
    "    |> Chart.WithLayout lineLayout\n",
    "    |> Chart.WithWidth 750\n",
    "\n",
    "chart"
   ]
  },
  {
   "cell_type": "markdown",
   "id": "20f83090",
   "metadata": {},
   "source": [
    "Seems pretty good.  \n",
    "\n",
    "For $x^2$ we see the familiar, if flat, parabola, and the derivative predictably starts negative, since the parabola `y` is decreasing. Since the slope is becoming flatter, the derivative becomes closer to 0, until at 0, where the parabola begins its ascent, likewise the derivative begins to become positive.  These changes in slope manifest as a simple line crossing the axes at 0.\n",
    "\n",
    "For $x^3$ we see the cubic parabola (I had to look that up).  This is interesting because our slop at -3 is positive, so the derivative is positive.  The slope of the cubic parabola is decreasing though, so the derivative likewise is decreasing.  Again, at 0, the cubic parabola becomes flat, so the derivative is 0.  And like the parabola, the cubic parabola ascends, so the derivative tracks that ascent. These changes manifest as a parabola with the change in slope from negative to positive at 0.\n",
    "\n",
    "Creating this function in F# required extra parentheses that the Python function in Deep Learning from Scratch did not.  Not sure why.  I would have that the order of operations for `/ 2.0 * delta` would be the same as `/ (2.0 * delta)`, but maybe there is something there in floating point precision or the operators in F# that I don't understand yet.\n",
    "\n",
    "From my college calculus course, I remember that the derivatives of the parabola and cubic parabola follow the power rule, which says that $\\frac{dy}{dx} x^n = n x^{n-1}$.  Let's plot those and verify that our derivatives looks similar."
   ]
  },
  {
   "cell_type": "code",
   "execution_count": 16,
   "id": "fa8025c1",
   "metadata": {},
   "outputs": [
    {
     "data": {
      "text/html": [
       "<!DOCTYPE html>\n",
       "<div style=\"width: 750px; height: 500px;\" id=\"180bcfd9-38d9-47c7-b1ec-2b00094155e5\"></div><script type=\"text/javascript\">\n",
       "\n",
       "var renderPlotly = function() {\n",
       "    var xplotRequire = require.config({context:'xplot-3.0.1',paths:{plotly:'https://cdn.plot.ly/plotly-1.49.2.min'}}) || require;\n",
       "    xplotRequire(['plotly'], function(Plotly) { \n",
       "\n",
       "            var data = [{\"type\":\"scatter\",\"x\":[-3.0,-2.9,-2.8,-2.7,-2.6,-2.5,-2.4,-2.3,-2.2,-2.1,-2.0,-1.9,-1.7999999999999998,-1.7,-1.5999999999999999,-1.5,-1.4,-1.2999999999999998,-1.2,-1.0999999999999999,-1.0,-0.8999999999999999,-0.7999999999999998,-0.6999999999999997,-0.5999999999999996,-0.5,-0.3999999999999999,-0.2999999999999998,-0.19999999999999973,-0.09999999999999964,0.0,0.10000000000000009,0.20000000000000018,0.30000000000000027,0.40000000000000036,0.5,0.6000000000000001,0.7000000000000002,0.8000000000000003,0.9000000000000004,1.0,1.1000000000000005,1.2000000000000002,1.2999999999999998,1.4000000000000004,1.5,1.6000000000000005,1.7000000000000002,1.8000000000000007,1.9000000000000004,2.0,2.1000000000000005,2.2,2.3000000000000007,2.4000000000000004,2.5,2.6000000000000005,2.7,2.8000000000000007,2.9000000000000004,3.0],\"y\":[-6.0,-5.8,-5.6,-5.4,-5.2,-5.0,-4.8,-4.6,-4.4,-4.2,-4.0,-3.8,-3.5999999999999996,-3.4,-3.1999999999999997,-3.0,-2.8,-2.5999999999999996,-2.4,-2.1999999999999997,-2.0,-1.7999999999999998,-1.5999999999999996,-1.3999999999999995,-1.1999999999999993,-1.0,-0.7999999999999998,-0.5999999999999996,-0.39999999999999947,-0.1999999999999993,0.0,0.20000000000000018,0.40000000000000036,0.6000000000000005,0.8000000000000007,1.0,1.2000000000000002,1.4000000000000004,1.6000000000000005,1.8000000000000007,2.0,2.200000000000001,2.4000000000000004,2.5999999999999996,2.8000000000000007,3.0,3.200000000000001,3.4000000000000004,3.6000000000000014,3.8000000000000007,4.0,4.200000000000001,4.4,4.600000000000001,4.800000000000001,5.0,5.200000000000001,5.4,5.600000000000001,5.800000000000001,6.0],\"mode\":\"lines\",\"name\":\"dy/dx x^2\"},{\"type\":\"scatter\",\"x\":[-3.0,-2.9,-2.8,-2.7,-2.6,-2.5,-2.4,-2.3,-2.2,-2.1,-2.0,-1.9,-1.7999999999999998,-1.7,-1.5999999999999999,-1.5,-1.4,-1.2999999999999998,-1.2,-1.0999999999999999,-1.0,-0.8999999999999999,-0.7999999999999998,-0.6999999999999997,-0.5999999999999996,-0.5,-0.3999999999999999,-0.2999999999999998,-0.19999999999999973,-0.09999999999999964,0.0,0.10000000000000009,0.20000000000000018,0.30000000000000027,0.40000000000000036,0.5,0.6000000000000001,0.7000000000000002,0.8000000000000003,0.9000000000000004,1.0,1.1000000000000005,1.2000000000000002,1.2999999999999998,1.4000000000000004,1.5,1.6000000000000005,1.7000000000000002,1.8000000000000007,1.9000000000000004,2.0,2.1000000000000005,2.2,2.3000000000000007,2.4000000000000004,2.5,2.6000000000000005,2.7,2.8000000000000007,2.9000000000000004,3.0],\"y\":[27.0,25.23,23.519999999999996,21.870000000000005,20.28,18.75,17.28,15.869999999999997,14.520000000000003,13.23,12.0,10.83,9.719999999999999,8.669999999999998,7.679999999999999,6.75,5.879999999999999,5.0699999999999985,4.32,3.629999999999999,3.0,2.4299999999999997,1.919999999999999,1.4699999999999989,1.0799999999999987,0.75,0.47999999999999976,0.2699999999999997,0.11999999999999969,0.029999999999999787,0.0,0.030000000000000054,0.12000000000000022,0.27000000000000046,0.48000000000000087,0.75,1.0800000000000003,1.4700000000000009,1.9200000000000013,2.430000000000002,3.0,3.6300000000000034,4.320000000000001,5.0699999999999985,5.8800000000000034,6.75,7.680000000000005,8.670000000000002,9.720000000000008,10.830000000000004,12.0,13.230000000000006,14.520000000000003,15.870000000000012,17.280000000000005,18.75,20.28000000000001,21.870000000000005,23.520000000000014,25.230000000000004,27.0],\"mode\":\"lines\",\"name\":\"dy/dx x^3\"}];\n",
       "           var layout = {\"title\":\"Power Rule Derivative Test Chart\"};\n",
       "           Plotly.newPlot('180bcfd9-38d9-47c7-b1ec-2b00094155e5', data, layout);\n",
       "        \n",
       "});\n",
       "};\n",
       "// ensure `require` is available globally\r\n",
       "if ((typeof(require) !==  typeof(Function)) || (typeof(require.config) !== typeof(Function))) {\r\n",
       "    let require_script = document.createElement('script');\r\n",
       "    require_script.setAttribute('src', 'https://cdnjs.cloudflare.com/ajax/libs/require.js/2.3.6/require.min.js');\r\n",
       "    require_script.setAttribute('type', 'text/javascript');\r\n",
       "    \r\n",
       "    \r\n",
       "    require_script.onload = function() {\r\n",
       "        renderPlotly();\r\n",
       "    };\r\n",
       "\r\n",
       "    document.getElementsByTagName('head')[0].appendChild(require_script);\r\n",
       "}\r\n",
       "else {\r\n",
       "    renderPlotly();\r\n",
       "}\r\n",
       "\n",
       "</script>\n"
      ]
     },
     "execution_count": 16,
     "metadata": {},
     "output_type": "execute_result"
    }
   ],
   "source": [
    "let power_rule_x2 = x |> Seq.map (fun y -> y * 2.0)\n",
    "\n",
    "let dydx2 = Scatter(\n",
    "        x = x, \n",
    "        y = power_rule_x2,\n",
    "        mode = \"lines\",\n",
    "        name = \"dy/dx x^2\"\n",
    "    )\n",
    "\n",
    "let power_rule_x3 = x |> Seq.map (fun y -> 3.0 * (y ** 2.0))\n",
    "\n",
    "let dydx3 = Scatter(\n",
    "        x = x, \n",
    "        y = power_rule_x3,\n",
    "        mode = \"lines\",\n",
    "        name = \"dy/dx x^3\"\n",
    "    )\n",
    "\n",
    "let lineLayout = Layout(title = \"Power Rule Derivative Test Chart\")\n",
    "\n",
    "let chart = \n",
    "    [dydx2; dydx3]\n",
    "    |> Chart.Plot\n",
    "    |> Chart.WithLayout lineLayout\n",
    "    |> Chart.WithWidth 750\n",
    "\n",
    "chart"
   ]
  },
  {
   "cell_type": "markdown",
   "id": "eab6053d",
   "metadata": {},
   "source": [
    "Based on my recollection of the power rule from college, these do indeed look correct.\n",
    "\n",
    "I am going to call our derivative function a success.\n",
    "\n",
    "As a bonus, we can see from the power rule, that indeed the derivative of $x^2$ should be a line, 1 degree less than the square.  Likewise, for $x^3$, we see that the derivative should be a parabola.  So it matches in form and function."
   ]
  },
  {
   "cell_type": "code",
   "execution_count": 15,
   "id": "ff82bece",
   "metadata": {},
   "outputs": [
    {
     "data": {
      "text/html": [
       "<!DOCTYPE html>\n",
       "<div style=\"width: 900px; height: 500px;\" id=\"d72320c1-0227-4721-90ac-8da809015480\"></div><script type=\"text/javascript\">\n",
       "\n",
       "var renderPlotly = function() {\n",
       "    var xplotRequire = require.config({context:'xplot-3.0.1',paths:{plotly:'https://cdn.plot.ly/plotly-1.49.2.min'}}) || require;\n",
       "    xplotRequire(['plotly'], function(Plotly) { \n",
       "\n",
       "            var data = [{\"type\":\"scatter\",\"x\":[0,1,2,3,4,5,6,7,8,9,10,11,12,13,14,15,16,17,18,19,20,21,22,23,24,25,26,27,28,29,30,31,32,33,34,35,36,37,38,39,40,41,42,43,44,45,46,47,48,49,50,51,52,53,54,55,56,57,58,59,60],\"y\":[-3.0,-2.9,-2.8,-2.7,-2.6,-2.5,-2.4,-2.3,-2.2,-2.1,-2.0,-1.9,-1.7999999999999998,-1.7,-1.5999999999999999,-1.5,-1.4,-1.2999999999999998,-1.2,-1.0999999999999999,-1.0,-0.8999999999999999,-0.7999999999999998,-0.6999999999999997,-0.5999999999999996,-0.5,-0.3999999999999999,-0.2999999999999998,-0.19999999999999973,-0.09999999999999964,0.0,0.10000000000000009,0.20000000000000018,0.30000000000000027,0.40000000000000036,0.5,0.6000000000000001,0.7000000000000002,0.8000000000000003,0.9000000000000004,1.0,1.1000000000000005,1.2000000000000002,1.2999999999999998,1.4000000000000004,1.5,1.6000000000000005,1.7000000000000002,1.8000000000000007,1.9000000000000004,2.0,2.1000000000000005,2.2,2.3000000000000007,2.4000000000000004,2.5,2.6000000000000005,2.7,2.8000000000000007,2.9000000000000004,3.0],\"mode\":\"lines\",\"name\":\"Deedle Test\"}];\n",
       "           var layout = \"\";\n",
       "           Plotly.newPlot('d72320c1-0227-4721-90ac-8da809015480', data, layout);\n",
       "        \n",
       "});\n",
       "};\n",
       "// ensure `require` is available globally\r\n",
       "if ((typeof(require) !==  typeof(Function)) || (typeof(require.config) !== typeof(Function))) {\r\n",
       "    let require_script = document.createElement('script');\r\n",
       "    require_script.setAttribute('src', 'https://cdnjs.cloudflare.com/ajax/libs/require.js/2.3.6/require.min.js');\r\n",
       "    require_script.setAttribute('type', 'text/javascript');\r\n",
       "    \r\n",
       "    \r\n",
       "    require_script.onload = function() {\r\n",
       "        renderPlotly();\r\n",
       "    };\r\n",
       "\r\n",
       "    document.getElementsByTagName('head')[0].appendChild(require_script);\r\n",
       "}\r\n",
       "else {\r\n",
       "    renderPlotly();\r\n",
       "}\r\n",
       "\n",
       "</script>\n"
      ]
     },
     "execution_count": 15,
     "metadata": {},
     "output_type": "execute_result"
    }
   ],
   "source": [
    "open Deedle;\n",
    "\n",
    "let d = Series.ofValues (seq { for n in -3.0 .. 0.1 .. 3.0 do n })\n",
    "let sc = Scatter(\n",
    "        x = d.Keys, \n",
    "        y = d.Values,\n",
    "        mode = \"lines\",\n",
    "        name = \"Deedle Test\"\n",
    "    )\n",
    "\n",
    "let lineLayout = Layout(title = \"Blah blah blah\")\n",
    "\n",
    "let ch = [sc] |> Chart.Plot\n",
    "ch"
   ]
  },
  {
   "cell_type": "code",
   "execution_count": null,
   "id": "d7756069",
   "metadata": {},
   "outputs": [],
   "source": []
  }
 ],
 "metadata": {
  "kernelspec": {
   "display_name": ".NET (F#)",
   "language": "F#",
   "name": ".net-fsharp"
  },
  "language_info": {
   "file_extension": ".fs",
   "mimetype": "text/x-fsharp",
   "name": "F#",
   "pygments_lexer": "fsharp",
   "version": "5.0"
  }
 },
 "nbformat": 4,
 "nbformat_minor": 5
}
